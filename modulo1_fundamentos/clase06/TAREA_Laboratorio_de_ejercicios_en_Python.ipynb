{
  "nbformat": 4,
  "nbformat_minor": 0,
  "metadata": {
    "colab": {
      "provenance": [],
      "include_colab_link": true
    },
    "kernelspec": {
      "name": "python3",
      "display_name": "Python 3"
    },
    "language_info": {
      "name": "python"
    }
  },
  "cells": [
    {
      "cell_type": "markdown",
      "metadata": {
        "id": "view-in-github",
        "colab_type": "text"
      },
      "source": [
        "<a href=\"https://colab.research.google.com/github/nicolasnugent/programa-python/blob/main/modulo1_fundamentos/clase06/TAREA_Laboratorio_de_ejercicios_en_Python.ipynb\" target=\"_parent\"><img src=\"https://colab.research.google.com/assets/colab-badge.svg\" alt=\"Open In Colab\"/></a>"
      ]
    },
    {
      "cell_type": "markdown",
      "source": [
        "# Listas"
      ],
      "metadata": {
        "id": "NC_iRWcEhNSv"
      }
    },
    {
      "cell_type": "markdown",
      "source": [
        "Ejercicio 1\n",
        "\n",
        "Crear una lista con los nombres de 5 bancos."
      ],
      "metadata": {
        "id": "IxkzijV9gnqx"
      }
    },
    {
      "cell_type": "code",
      "source": [
        "bancos = [\"BCP\", \"INTERBANK\", \"SCOTIABANC\", \"BBVA\", \"CITIBANK\"]\n"
      ],
      "metadata": {
        "id": "sDlZExpSdZis"
      },
      "execution_count": 9,
      "outputs": []
    },
    {
      "cell_type": "markdown",
      "source": [
        "Ejercicio 2\n",
        "\n",
        "Acceder al tercer banco de la lista."
      ],
      "metadata": {
        "id": "2d57HxBKgtdO"
      }
    },
    {
      "cell_type": "code",
      "source": [
        "bancos [2]"
      ],
      "metadata": {
        "colab": {
          "base_uri": "https://localhost:8080/",
          "height": 36
        },
        "id": "q_va08sJeti7",
        "outputId": "b42794ac-0af6-41c7-8aa2-66f001226025"
      },
      "execution_count": 10,
      "outputs": [
        {
          "output_type": "execute_result",
          "data": {
            "text/plain": [
              "'SCOTIABANC'"
            ],
            "application/vnd.google.colaboratory.intrinsic+json": {
              "type": "string"
            }
          },
          "metadata": {},
          "execution_count": 10
        }
      ]
    },
    {
      "cell_type": "markdown",
      "source": [
        "Ejercicio 3\n",
        "\n",
        "Agregar un nuevo banco a la lista."
      ],
      "metadata": {
        "id": "r3av9R2Ygv2T"
      }
    },
    {
      "cell_type": "code",
      "source": [
        "bancos.append(\"BANCO DE LA NACION\")\n",
        "print(bancos)"
      ],
      "metadata": {
        "colab": {
          "base_uri": "https://localhost:8080/"
        },
        "id": "NYIK_NLGfBGH",
        "outputId": "d08b937b-6c63-450d-eb4c-89ad57cc0e37"
      },
      "execution_count": 11,
      "outputs": [
        {
          "output_type": "stream",
          "name": "stdout",
          "text": [
            "['BCP', 'INTERBANK', 'SCOTIABANC', 'BBVA', 'CITIBANK', 'BANCO DE LA NACION']\n"
          ]
        }
      ]
    },
    {
      "cell_type": "markdown",
      "source": [
        "Ejercicio 4\n",
        "\n",
        "Eliminar el segundo banco."
      ],
      "metadata": {
        "id": "mCi9Qu0lhA7E"
      }
    },
    {
      "cell_type": "code",
      "source": [
        "del bancos[1]\n",
        "print(bancos)"
      ],
      "metadata": {
        "colab": {
          "base_uri": "https://localhost:8080/"
        },
        "id": "CMpQMAxdfTCU",
        "outputId": "ee43e46b-0b31-40ed-c9ec-f492f5cfe468"
      },
      "execution_count": 12,
      "outputs": [
        {
          "output_type": "stream",
          "name": "stdout",
          "text": [
            "['BCP', 'SCOTIABANC', 'BBVA', 'CITIBANK', 'BANCO DE LA NACION']\n"
          ]
        }
      ]
    },
    {
      "cell_type": "markdown",
      "source": [
        "Ejercicio 5\n",
        "\n",
        "Ordenar alfabéticamente los bancos."
      ],
      "metadata": {
        "id": "he1Ai2YahGpE"
      }
    },
    {
      "cell_type": "code",
      "source": [
        "bancos.sort()\n",
        "print (bancos)"
      ],
      "metadata": {
        "colab": {
          "base_uri": "https://localhost:8080/"
        },
        "id": "TRtVfbOAg3ul",
        "outputId": "806758d9-f3ae-4425-9ed9-b7d157613016"
      },
      "execution_count": 13,
      "outputs": [
        {
          "output_type": "stream",
          "name": "stdout",
          "text": [
            "['BANCO DE LA NACION', 'BBVA', 'BCP', 'CITIBANK', 'SCOTIABANC']\n"
          ]
        }
      ]
    },
    {
      "cell_type": "markdown",
      "source": [
        "# Condicionales IF, ELIF, ELSE"
      ],
      "metadata": {
        "id": "VpT6gNZ2hj1O"
      }
    },
    {
      "cell_type": "markdown",
      "source": [
        "Ejercicio 1\n",
        "\n",
        "Verificar si un cliente tiene ingreso > 3000."
      ],
      "metadata": {
        "id": "kv91XOyphovd"
      }
    },
    {
      "cell_type": "code",
      "source": [
        "ingreso_mensual = int(input (\"Ingrese su ingreso mensual: \"))\n",
        "if ingreso_mensual > 3000:\n",
        "  print (\"El cliente tiene ingreso mayor a 3000 soles\")\n",
        "else:\n",
        "  print (\"El cliente no tiene ingreso mayor a 3000 soles\")\n"
      ],
      "metadata": {
        "colab": {
          "base_uri": "https://localhost:8080/"
        },
        "id": "UU08jBGyhZi_",
        "outputId": "9f1add76-0522-48ba-f518-749ffb887575"
      },
      "execution_count": 17,
      "outputs": [
        {
          "output_type": "stream",
          "name": "stdout",
          "text": [
            "Ingrese su ingreso mensual: 3500\n",
            "El cliente tiene ingreso mayor a 3000 soles\n"
          ]
        }
      ]
    },
    {
      "cell_type": "markdown",
      "source": [
        "Ejercicio 2\n",
        "\n",
        "Evaluar edad para otorgar tarjeta de crédito."
      ],
      "metadata": {
        "id": "n1X-A7oNhr4z"
      }
    },
    {
      "cell_type": "code",
      "source": [
        "edad = input (\"Ingrese su edad: \")\n",
        "if edad >= \"18\":\n",
        "  print (\"El cliente tiene derecho a una tarjeta de crédito\")\n",
        "else:\n",
        "  print (\"El cliente no tiene derecho a una tarjeta de crédito\")"
      ],
      "metadata": {
        "colab": {
          "base_uri": "https://localhost:8080/"
        },
        "id": "o6nOto2JiNfK",
        "outputId": "1be9ff88-6de9-49fb-903a-2b7492414ed6"
      },
      "execution_count": 18,
      "outputs": [
        {
          "output_type": "stream",
          "name": "stdout",
          "text": [
            "Ingrese su edad: 40\n",
            "El cliente tiene derecho a una tarjeta de crédito\n"
          ]
        }
      ]
    },
    {
      "cell_type": "markdown",
      "source": [
        "Ejercicio 3\n",
        "\n",
        "Evaluar un score de crédito."
      ],
      "metadata": {
        "id": "PiDQUQ05htq2"
      }
    },
    {
      "cell_type": "code",
      "source": [
        "if ingreso_mensual > 3000 and edad >= \"18\": print(\"tiene buen score\")\n",
        "else: print(\"tiene un score regular\")\n",
        "\n"
      ],
      "metadata": {
        "colab": {
          "base_uri": "https://localhost:8080/"
        },
        "id": "5TjO-KJtiyg-",
        "outputId": "5bf0ebff-cce8-4679-d9dc-c92dc47c8cc1"
      },
      "execution_count": 21,
      "outputs": [
        {
          "output_type": "stream",
          "name": "stdout",
          "text": [
            "tiene buen score\n"
          ]
        }
      ]
    },
    {
      "cell_type": "markdown",
      "source": [
        "Ejercicio 4\n",
        "\n",
        "Verificar si una cuenta tiene saldo negativo."
      ],
      "metadata": {
        "id": "xoT9xGBph1M_"
      }
    },
    {
      "cell_type": "code",
      "source": [
        "saldo = int(input (\"Ingrese su saldo: \"))\n",
        "if saldo < 0:\n",
        "  print (\"El cliente tiene saldo negativo\")\n",
        "else:\n",
        "  print (\"El cliente no tiene saldo negativo\")"
      ],
      "metadata": {
        "colab": {
          "base_uri": "https://localhost:8080/"
        },
        "id": "6BpnQfuPjfiJ",
        "outputId": "23d8bae3-2249-4ae6-d775-8fd1c653ffad"
      },
      "execution_count": 22,
      "outputs": [
        {
          "output_type": "stream",
          "name": "stdout",
          "text": [
            "Ingrese su saldo: 0\n",
            "El cliente no tiene saldo negativo\n"
          ]
        }
      ]
    },
    {
      "cell_type": "markdown",
      "source": [
        "Ejercicio 5\n",
        "\n",
        "Comparar dos tasas de interés."
      ],
      "metadata": {
        "id": "hLB_ZRjth5cJ"
      }
    },
    {
      "cell_type": "code",
      "source": [
        "tasa_1 = int(input (\"Ingrese la primera tasa de interés: \"))\n",
        "tasa_2 = int(input (\"Ingrese la segunda tasa de interés: \"))\n",
        "if tasa_1 > tasa_2:\n",
        "  print (\"La primera tasa de interés es mayor a la segunda\")\n",
        "elif tasa_1 < tasa_2:\n",
        "    print (\"La segunda tasa de interés es mayor a la primera\")\n",
        "else:\n",
        "      print (\"Las tasas son iguales\")"
      ],
      "metadata": {
        "colab": {
          "base_uri": "https://localhost:8080/"
        },
        "id": "pf3i4ysCjxW5",
        "outputId": "9539627e-72ef-4aeb-8756-1eeb6e100cd2"
      },
      "execution_count": 29,
      "outputs": [
        {
          "output_type": "stream",
          "name": "stdout",
          "text": [
            "Ingrese la primera tasa de interés: 3\n",
            "Ingrese la segunda tasa de interés: 4\n",
            "La segunda tasa de interés es mayor a la primera\n"
          ]
        }
      ]
    },
    {
      "cell_type": "markdown",
      "source": [
        "Ejercicio 6\n",
        "\n",
        "Evaluar si un cliente tiene más de 3 productos financieros."
      ],
      "metadata": {
        "id": "ORVVt26mh8dt"
      }
    },
    {
      "cell_type": "code",
      "source": [
        "numero_productos = int(input (\"Ingrese el número de productos: \"))\n",
        "if numero_productos > 3:\n",
        "  print (\"El cliente tiene más de 3 productos\")\n",
        "else:\n",
        "  print (\"El cliente no tiene más de 3 productos\")"
      ],
      "metadata": {
        "colab": {
          "base_uri": "https://localhost:8080/"
        },
        "id": "JnLW9oX8k0eS",
        "outputId": "a976be9b-8c5d-49b3-ee4f-3ad5a461aa13"
      },
      "execution_count": 30,
      "outputs": [
        {
          "output_type": "stream",
          "name": "stdout",
          "text": [
            "Ingrese el número de productos: 4\n",
            "El cliente tiene más de 3 productos\n"
          ]
        }
      ]
    },
    {
      "cell_type": "markdown",
      "source": [
        "Ejercicio 7\n",
        "\n",
        "Determinar si un monto depositado supera los 10,000."
      ],
      "metadata": {
        "id": "naW4x0QLh_SV"
      }
    },
    {
      "cell_type": "code",
      "source": [
        "monto_depositado = int(input (\"Ingrese el monto depositado: \"))\n",
        "if monto_depositado > 10000:\n",
        "  print (\"El monto depositado supera los 10,000 soles\")\n",
        "else:\n",
        "    print (\"El monto depositado no supera los 10,000 soles\")"
      ],
      "metadata": {
        "colab": {
          "base_uri": "https://localhost:8080/"
        },
        "id": "pKX0bm2blIdf",
        "outputId": "4b54d28f-a999-4cfc-c2e0-c91b4874e675"
      },
      "execution_count": 32,
      "outputs": [
        {
          "output_type": "stream",
          "name": "stdout",
          "text": [
            "Ingrese el monto depositado: 5000\n",
            "El monto depositado no supera los 10,000 soles\n"
          ]
        }
      ]
    },
    {
      "cell_type": "markdown",
      "source": [
        "# **Diccionarios**"
      ],
      "metadata": {
        "id": "V7WW7fIGioVg"
      }
    },
    {
      "cell_type": "markdown",
      "source": [
        "Ejercicio 1\n",
        "\n",
        "Crear un diccionario con datos de un cliente."
      ],
      "metadata": {
        "id": "CHwNqNtNisgi"
      }
    },
    {
      "cell_type": "code",
      "source": [
        "clientes = {\"nombre\": \"Juan\", \"edad\": 30, \"saldo\": 5000}"
      ],
      "metadata": {
        "id": "fO5WqHGjlWGj"
      },
      "execution_count": 34,
      "outputs": []
    },
    {
      "cell_type": "markdown",
      "source": [
        "Ejercicio 2\n",
        "\n",
        "Acceder al saldo del cliente."
      ],
      "metadata": {
        "id": "y79prRhxivr3"
      }
    },
    {
      "cell_type": "code",
      "source": [
        "clientes[\"saldo\"]"
      ],
      "metadata": {
        "colab": {
          "base_uri": "https://localhost:8080/"
        },
        "id": "zGspmQFHlga7",
        "outputId": "6be68ad5-eb2f-455b-a428-d8972fd4b862"
      },
      "execution_count": 36,
      "outputs": [
        {
          "output_type": "execute_result",
          "data": {
            "text/plain": [
              "5000"
            ]
          },
          "metadata": {},
          "execution_count": 36
        }
      ]
    },
    {
      "cell_type": "markdown",
      "source": [
        "Ejercicio 3\n",
        "\n",
        "Modificar el saldo."
      ],
      "metadata": {
        "id": "WPMXW--eiy7n"
      }
    },
    {
      "cell_type": "code",
      "source": [
        "clientes [\"saldo\"] = 6000\n",
        "print (clientes)"
      ],
      "metadata": {
        "colab": {
          "base_uri": "https://localhost:8080/"
        },
        "id": "qrbkh6ODmZ_m",
        "outputId": "d4bf917f-7df9-497d-839a-fb4dde4bdc74"
      },
      "execution_count": 37,
      "outputs": [
        {
          "output_type": "stream",
          "name": "stdout",
          "text": [
            "{'nombre': 'Juan', 'edad': 30, 'saldo': 6000}\n"
          ]
        }
      ]
    },
    {
      "cell_type": "markdown",
      "source": [
        "Ejercicio 4\n",
        "\n",
        "Agregar una nueva llave 'tarjeta_credito'."
      ],
      "metadata": {
        "id": "xN7U259_i0SD"
      }
    },
    {
      "cell_type": "code",
      "source": [
        "clientes [\"tarjeta_credito\"] = \"visa\"\n",
        "print (clientes)"
      ],
      "metadata": {
        "colab": {
          "base_uri": "https://localhost:8080/"
        },
        "id": "Z3GekOummlSh",
        "outputId": "006ca033-7591-41d2-e373-44d54fecb505"
      },
      "execution_count": 38,
      "outputs": [
        {
          "output_type": "stream",
          "name": "stdout",
          "text": [
            "{'nombre': 'Juan', 'edad': 30, 'saldo': 6000, 'tarjeta_credito': 'visa'}\n"
          ]
        }
      ]
    },
    {
      "cell_type": "markdown",
      "source": [
        "Ejercicio 5\n",
        "\n",
        "Eliminar el nombre del cliente."
      ],
      "metadata": {
        "id": "EhsIdR2wi2MR"
      }
    },
    {
      "cell_type": "code",
      "source": [
        "del clientes [\"nombre\"]\n",
        "print (clientes)"
      ],
      "metadata": {
        "colab": {
          "base_uri": "https://localhost:8080/"
        },
        "id": "6uthm-CGm0Ym",
        "outputId": "a90725eb-1ca5-44ed-a15f-564b8b39d3f9"
      },
      "execution_count": 39,
      "outputs": [
        {
          "output_type": "stream",
          "name": "stdout",
          "text": [
            "{'edad': 30, 'saldo': 6000, 'tarjeta_credito': 'visa'}\n"
          ]
        }
      ]
    },
    {
      "cell_type": "markdown",
      "source": [
        "# FOR"
      ],
      "metadata": {
        "id": "SEZ-ENCGi45b"
      }
    },
    {
      "cell_type": "markdown",
      "source": [
        "Ejercicio 1\n",
        "\n",
        "Recorrer una lista de tasas de interés."
      ],
      "metadata": {
        "id": "UIibjV-Ti8kG"
      }
    },
    {
      "cell_type": "code",
      "source": [
        "tasas_de_interes = [3,4,6,8,10,15]\n",
        "for tasa in tasas_de_interes:\n",
        "  print (tasa)"
      ],
      "metadata": {
        "colab": {
          "base_uri": "https://localhost:8080/"
        },
        "id": "DytsVrDcnInm",
        "outputId": "0f82275c-3ee4-4e4f-e87b-78f7edadc7f4"
      },
      "execution_count": 43,
      "outputs": [
        {
          "output_type": "stream",
          "name": "stdout",
          "text": [
            "3\n",
            "4\n",
            "6\n",
            "8\n",
            "10\n",
            "15\n"
          ]
        }
      ]
    },
    {
      "cell_type": "code",
      "source": [],
      "metadata": {
        "id": "9jgieIqInat8"
      },
      "execution_count": null,
      "outputs": []
    },
    {
      "cell_type": "markdown",
      "source": [
        "Ejercicio 2\n",
        "\n",
        "Sumar todos los saldos de una lista."
      ],
      "metadata": {
        "id": "xJcFuGJ-i_OZ"
      }
    },
    {
      "cell_type": "code",
      "source": [
        "saldos = [1000,2000,3000,4000,5000]\n",
        "suma_saldos = 0\n",
        "for saldo in saldos:\n",
        "  suma_saldos += saldo\n",
        "print (suma_saldos)"
      ],
      "metadata": {
        "colab": {
          "base_uri": "https://localhost:8080/"
        },
        "id": "f4XTCxEEnteT",
        "outputId": "36edf348-3972-43c3-988f-ee80c5b6e76c"
      },
      "execution_count": 46,
      "outputs": [
        {
          "output_type": "stream",
          "name": "stdout",
          "text": [
            "15000\n"
          ]
        }
      ]
    },
    {
      "cell_type": "markdown",
      "source": [
        "Ejercicio 3\n",
        "\n",
        "Recorrer una lista de precios de productos ecommerce y aplicar descuento de 10%."
      ],
      "metadata": {
        "id": "VrNKApKTjBYl"
      }
    },
    {
      "cell_type": "code",
      "source": [
        "precios = [100,200,300,400,500]\n",
        "for precio in precios:\n",
        "  precio_con_descuento = precio * 0.9\n",
        "  print (precio_con_descuento)"
      ],
      "metadata": {
        "colab": {
          "base_uri": "https://localhost:8080/"
        },
        "id": "kOfXP6sOoS0l",
        "outputId": "3cce47d5-28eb-45a9-b5a3-f92dbd1c8085"
      },
      "execution_count": 47,
      "outputs": [
        {
          "output_type": "stream",
          "name": "stdout",
          "text": [
            "90.0\n",
            "180.0\n",
            "270.0\n",
            "360.0\n",
            "450.0\n"
          ]
        }
      ]
    },
    {
      "cell_type": "markdown",
      "source": [
        "Ejercicio 4\n",
        "\n",
        "Contar cuántos productos tienen un precio mayor a 100."
      ],
      "metadata": {
        "id": "LLFjbn2KjDvf"
      }
    },
    {
      "cell_type": "code",
      "source": [
        "count = 0\n",
        "for precio in precios:\n",
        "  if precio > 100:\n",
        "    count += 1\n",
        "print (count)"
      ],
      "metadata": {
        "colab": {
          "base_uri": "https://localhost:8080/"
        },
        "id": "D6I28w4-oWVw",
        "outputId": "dacde3f1-99e4-43bd-a03d-802d7a571b85"
      },
      "execution_count": 48,
      "outputs": [
        {
          "output_type": "stream",
          "name": "stdout",
          "text": [
            "4\n"
          ]
        }
      ]
    },
    {
      "cell_type": "markdown",
      "source": [
        "Ejercicio 5\n",
        "\n",
        "Recorrer campañas de marketing y mostrar su nombre."
      ],
      "metadata": {
        "id": "Sx866gLnjGL3"
      }
    },
    {
      "cell_type": "code",
      "source": [
        "campañas_marketing = [\"cyberwow\", \"cyberdays\", \"yapito\", \"creditos\"]\n",
        "for campaña in campañas_marketing:\n",
        "  print (campaña)"
      ],
      "metadata": {
        "colab": {
          "base_uri": "https://localhost:8080/"
        },
        "id": "kC0_b7F-pN1B",
        "outputId": "a0521cbc-7587-42a8-8083-df4ceeffcf44"
      },
      "execution_count": 50,
      "outputs": [
        {
          "output_type": "stream",
          "name": "stdout",
          "text": [
            "cyberwow\n",
            "cyberdays\n",
            "yapito\n",
            "creditos\n"
          ]
        }
      ]
    },
    {
      "cell_type": "markdown",
      "source": [
        "Ejercicio 6\n",
        "\n",
        "Recorrer un diccionario de clientes con saldo y mostrar solo los que tengan saldo > 2000."
      ],
      "metadata": {
        "id": "QahT6s0IjIOv"
      }
    },
    {
      "cell_type": "code",
      "source": [
        "saldos = {\"juan\": 1000, \"pedro\": 2000, \"maria\": 3000, \"ana\": 4000}\n",
        "for cliente, saldo in saldos.items():\n",
        "  if saldo > 2000:\n",
        "    print (cliente)"
      ],
      "metadata": {
        "colab": {
          "base_uri": "https://localhost:8080/"
        },
        "id": "NKpi-pzUpnBg",
        "outputId": "af69ba37-55ff-4d03-eebe-2aec024f3763"
      },
      "execution_count": 57,
      "outputs": [
        {
          "output_type": "stream",
          "name": "stdout",
          "text": [
            "maria\n",
            "ana\n"
          ]
        }
      ]
    },
    {
      "cell_type": "markdown",
      "source": [
        "Ejercicio 7\n",
        "\n",
        "Recorrer una lista de emails de clientes y contar los que terminan en \"@gmail.com\"."
      ],
      "metadata": {
        "id": "2rTlLwQ_jL5s"
      }
    },
    {
      "cell_type": "markdown",
      "source": [
        "# Mini Proyecto\n",
        "\n",
        "\"Evaluador de Clientes Hipotecarios\""
      ],
      "metadata": {
        "id": "FMUBc06ojTaq"
      }
    },
    {
      "cell_type": "markdown",
      "source": [
        "Contexto:\n",
        "Un banco quiere evaluar a sus clientes para ofrecerles un nuevo crédito hipotecario.\n",
        "Cada cliente tiene datos como: nombre, ingreso mensual, deudas actuales y número de productos contratados.\n",
        "\n",
        "Objetivo:\n",
        "1. Crear la base de datos de clientes usando un diccionario.\n",
        "2. Usar for para recorrer todos los clientes.\n",
        "3. Aplicar condicionales para clasificar:\n",
        "   - \"Elegible\" si su ingreso anual es mayor a 36,000 soles, sus deudas son menores a 15,000 soles y tiene al menos 2 productos contratados.\n",
        "   - \"Requiere Evaluación\" si cumple solo algunas condiciones.\n",
        "   - \"No Elegible\" si no cumple ninguna condición.\n",
        "4. Mostrar el resultado bien formateado por cliente."
      ],
      "metadata": {
        "id": "UawN6JC7jXAE"
      }
    },
    {
      "cell_type": "code",
      "source": [
        "# Base de datos de clientes\n",
        "clientes = {\n",
        "    \"cliente1\": {\"nombre\": \"Ana\", \"ingreso_mensual\": 4000, \"deudas\": 10000, \"productos\": 3},\n",
        "    \"cliente2\": {\"nombre\": \"Bruno\", \"ingreso_mensual\": 2500, \"deudas\": 5000, \"productos\": 1},\n",
        "    \"cliente3\": {\"nombre\": \"Carla\", \"ingreso_mensual\": 3500, \"deudas\": 16000, \"productos\": 2},\n",
        "    \"cliente4\": {\"nombre\": \"Diego\", \"ingreso_mensual\": 3200, \"deudas\": 8000, \"productos\": 2},\n",
        "}\n",
        "\n",
        "# Recorrer cada cliente\n",
        "for cliente_id, datos in clientes.items():\n",
        "    nombre = datos[\"nombre\"]\n",
        "    ingreso_anual = datos[\"ingreso_mensual\"] * 12\n",
        "    deudas = datos[\"deudas\"]\n",
        "    productos = datos[\"productos\"]\n",
        "\n",
        "    # Evaluar condiciones\n",
        "    cumple_ingreso = ingreso_anual > 36000\n",
        "    cumple_deuda = deudas < 15000\n",
        "    cumple_productos = productos >= 2\n",
        "\n",
        "    # Clasificación\n",
        "    if cumple_ingreso and cumple_deuda and cumple_productos:\n",
        "        estado = \"Elegible\"\n",
        "    elif cumple_ingreso or cumple_deuda or cumple_productos:\n",
        "        estado = \"Requiere Evaluación\"\n",
        "    else:\n",
        "        estado = \"No Elegible\"\n",
        "\n",
        "    # Mostrar resultados formateados\n",
        "    print(f\"Cliente: {nombre}\")\n",
        "    print(f\" - Ingreso Anual: {ingreso_anual} soles\")\n",
        "    print(f\" - Deudas: {deudas} soles\")\n",
        "    print(f\" - Productos Contratados: {productos}\")\n",
        "    print(f\" - Estado: {estado}\")\n",
        "    print ( )\n",
        "\n",
        "\n"
      ],
      "metadata": {
        "colab": {
          "base_uri": "https://localhost:8080/"
        },
        "id": "LUSfjtRsq-BP",
        "outputId": "af5b8250-9809-4a70-a733-e6fbd21258b3"
      },
      "execution_count": 60,
      "outputs": [
        {
          "output_type": "stream",
          "name": "stdout",
          "text": [
            "Cliente: Ana\n",
            " - Ingreso Anual: 48000 soles\n",
            " - Deudas: 10000 soles\n",
            " - Productos Contratados: 3\n",
            " - Estado: Elegible\n",
            "\n",
            "Cliente: Bruno\n",
            " - Ingreso Anual: 30000 soles\n",
            " - Deudas: 5000 soles\n",
            " - Productos Contratados: 1\n",
            " - Estado: Requiere Evaluación\n",
            "\n",
            "Cliente: Carla\n",
            " - Ingreso Anual: 42000 soles\n",
            " - Deudas: 16000 soles\n",
            " - Productos Contratados: 2\n",
            " - Estado: Requiere Evaluación\n",
            "\n",
            "Cliente: Diego\n",
            " - Ingreso Anual: 38400 soles\n",
            " - Deudas: 8000 soles\n",
            " - Productos Contratados: 2\n",
            " - Estado: Elegible\n",
            "\n"
          ]
        }
      ]
    },
    {
      "cell_type": "code",
      "source": [
        "clientes"
      ],
      "metadata": {
        "id": "PTEucSRMquyD"
      },
      "execution_count": null,
      "outputs": []
    },
    {
      "cell_type": "markdown",
      "source": [
        "Instrucciones\n",
        "\n",
        "1. Crea un diccionario llamado clientes con al menos 5 clientes.\n",
        "2. Cada cliente tendrá:\n",
        "   - Nombre (str)\n",
        "   - Ingreso mensual (float)\n",
        "   - Deudas (float)\n",
        "   - Número de productos contratados (int)\n",
        "3. Calcula el ingreso anual (ingreso mensual × 12).\n",
        "4. Usa un for para recorrer cada cliente.\n",
        "5. Usa if, elif, else para clasificarlo en una de las tres categorías.\n",
        "6. Muestra en pantalla: Cliente: {nombre} - Resultado: {clasificación}"
      ],
      "metadata": {
        "id": "cO8ajcixjnWX"
      }
    },
    {
      "cell_type": "markdown",
      "source": [
        "# 🔥 Nivel extra:\n",
        "\n",
        "1. Ingresa manualmente los clientes (input).\n",
        "2. Calcula la diferencia absoluta (abs) entre ingreso anual y deudas.\n",
        "3. Redondea (round) el ingreso anual al número entero más cercano."
      ],
      "metadata": {
        "id": "5ZCQkJxkkDGj"
      }
    }
  ]
}